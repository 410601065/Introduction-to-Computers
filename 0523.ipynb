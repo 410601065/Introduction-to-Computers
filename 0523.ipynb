{
  "nbformat": 4,
  "nbformat_minor": 0,
  "metadata": {
    "colab": {
      "name": "0523.ipynb",
      "provenance": [],
      "authorship_tag": "ABX9TyNuSu8PDmOoDx9MX4RvhB7/",
      "include_colab_link": true
    },
    "kernelspec": {
      "name": "python3",
      "display_name": "Python 3"
    },
    "language_info": {
      "name": "python"
    }
  },
  "cells": [
    {
      "cell_type": "markdown",
      "metadata": {
        "id": "view-in-github",
        "colab_type": "text"
      },
      "source": [
        "<a href=\"https://colab.research.google.com/github/410601065/Introduction-to-Computers/blob/main/0523.ipynb\" target=\"_parent\"><img src=\"https://colab.research.google.com/assets/colab-badge.svg\" alt=\"Open In Colab\"/></a>"
      ]
    },
    {
      "cell_type": "code",
      "source": [
        "sum = 0\n",
        "test = int(input('請輸入一個正整數'))\n",
        "for n in range(1,test+1):\n",
        "  sum = sum+n\n",
        "print(\"1到\",test,\"的整數和為\",sum)"
      ],
      "metadata": {
        "colab": {
          "base_uri": "https://localhost:8080/"
        },
        "id": "GioAC3ZVEcoz",
        "outputId": "2896d1cb-b11c-4a0f-e546-80f2429ab7cc"
      },
      "execution_count": null,
      "outputs": [
        {
          "output_type": "stream",
          "name": "stdout",
          "text": [
            "請輸入一個正整數10\n",
            "1到 10 的整數和為 55\n"
          ]
        }
      ]
    },
    {
      "cell_type": "code",
      "source": [
        "sum=0\n",
        "test=int(input('請輸入一個正整數'))\n",
        "for m in range(1,test+1):\n",
        "  sum=sum+m\n",
        "  print('1到',str(m),'的整數和為',sum)"
      ],
      "metadata": {
        "colab": {
          "base_uri": "https://localhost:8080/"
        },
        "id": "BI5A29BzBeKp",
        "outputId": "ad4a0829-1a39-4b5d-c9bb-6f9ed0fe716f"
      },
      "execution_count": null,
      "outputs": [
        {
          "output_type": "stream",
          "name": "stdout",
          "text": [
            "請輸入一個正整數50\n",
            "1到 1 的整數和為 1\n",
            "1到 2 的整數和為 3\n",
            "1到 3 的整數和為 6\n",
            "1到 4 的整數和為 10\n",
            "1到 5 的整數和為 15\n",
            "1到 6 的整數和為 21\n",
            "1到 7 的整數和為 28\n",
            "1到 8 的整數和為 36\n",
            "1到 9 的整數和為 45\n",
            "1到 10 的整數和為 55\n",
            "1到 11 的整數和為 66\n",
            "1到 12 的整數和為 78\n",
            "1到 13 的整數和為 91\n",
            "1到 14 的整數和為 105\n",
            "1到 15 的整數和為 120\n",
            "1到 16 的整數和為 136\n",
            "1到 17 的整數和為 153\n",
            "1到 18 的整數和為 171\n",
            "1到 19 的整數和為 190\n",
            "1到 20 的整數和為 210\n",
            "1到 21 的整數和為 231\n",
            "1到 22 的整數和為 253\n",
            "1到 23 的整數和為 276\n",
            "1到 24 的整數和為 300\n",
            "1到 25 的整數和為 325\n",
            "1到 26 的整數和為 351\n",
            "1到 27 的整數和為 378\n",
            "1到 28 的整數和為 406\n",
            "1到 29 的整數和為 435\n",
            "1到 30 的整數和為 465\n",
            "1到 31 的整數和為 496\n",
            "1到 32 的整數和為 528\n",
            "1到 33 的整數和為 561\n",
            "1到 34 的整數和為 595\n",
            "1到 35 的整數和為 630\n",
            "1到 36 的整數和為 666\n",
            "1到 37 的整數和為 703\n",
            "1到 38 的整數和為 741\n",
            "1到 39 的整數和為 780\n",
            "1到 40 的整數和為 820\n",
            "1到 41 的整數和為 861\n",
            "1到 42 的整數和為 903\n",
            "1到 43 的整數和為 946\n",
            "1到 44 的整數和為 990\n",
            "1到 45 的整數和為 1035\n",
            "1到 46 的整數和為 1081\n",
            "1到 47 的整數和為 1128\n",
            "1到 48 的整數和為 1176\n",
            "1到 49 的整數和為 1225\n",
            "1到 50 的整數和為 1275\n"
          ]
        }
      ]
    },
    {
      "cell_type": "code",
      "source": [
        "for j in range(1,6):\n",
        "  print(j)\n",
        "  for i in range(1,3):\n",
        "    k=i*j\n",
        "    print(j,'*',i,'=',k)"
      ],
      "metadata": {
        "colab": {
          "base_uri": "https://localhost:8080/"
        },
        "id": "42U-ZDJqCgGm",
        "outputId": "9ab829dd-5947-40ba-a0ed-2718d2c29ea1"
      },
      "execution_count": null,
      "outputs": [
        {
          "output_type": "stream",
          "name": "stdout",
          "text": [
            "1\n",
            "1 * 1 = 1\n",
            "1 * 2 = 2\n",
            "2\n",
            "2 * 1 = 2\n",
            "2 * 2 = 4\n",
            "3\n",
            "3 * 1 = 3\n",
            "3 * 2 = 6\n",
            "4\n",
            "4 * 1 = 4\n",
            "4 * 2 = 8\n",
            "5\n",
            "5 * 1 = 5\n",
            "5 * 2 = 10\n"
          ]
        }
      ]
    },
    {
      "cell_type": "code",
      "source": [
        "for i in range(1,5):\n",
        "  if (i==4):\n",
        "    break\n",
        "  print(i,end=' ')"
      ],
      "metadata": {
        "colab": {
          "base_uri": "https://localhost:8080/"
        },
        "id": "K6b3yv-OEQMX",
        "outputId": "7d950ece-e2b0-4ece-c45b-84b7212f9aae"
      },
      "execution_count": null,
      "outputs": [
        {
          "output_type": "stream",
          "name": "stdout",
          "text": [
            "1 2 3 "
          ]
        }
      ]
    },
    {
      "cell_type": "code",
      "source": [
        "for i in range(1,5):\n",
        "  if (i==4):\n",
        "    continue\n",
        "  print(i,end=' ')"
      ],
      "metadata": {
        "colab": {
          "base_uri": "https://localhost:8080/"
        },
        "id": "4_o9oGIyFWVG",
        "outputId": "1251ca9f-3ee8-4f46-d019-f7edb6b7324b"
      },
      "execution_count": null,
      "outputs": [
        {
          "output_type": "stream",
          "name": "stdout",
          "text": [
            "1 2 3 "
          ]
        }
      ]
    },
    {
      "cell_type": "code",
      "source": [
        "count = 0\n",
        "for string in '測試看看!':\n",
        "  count+=1\n",
        "  if string == '看':\n",
        "    break\n",
        "  print(string)\n",
        "print('迴圈結束')\n",
        "print('迴圈執行了%d次'%count)"
      ],
      "metadata": {
        "colab": {
          "base_uri": "https://localhost:8080/"
        },
        "id": "4EoAG9J4F1Da",
        "outputId": "bc0ab19b-e6bb-4134-921f-054548a262c6"
      },
      "execution_count": null,
      "outputs": [
        {
          "output_type": "stream",
          "name": "stdout",
          "text": [
            "測\n",
            "試\n",
            "迴圈結束\n",
            "迴圈執行了3次\n"
          ]
        }
      ]
    },
    {
      "cell_type": "code",
      "source": [
        "count = 0\n",
        "for string in 'test':\n",
        "  count+=1\n",
        "  if string == 'look':\n",
        "    break\n",
        "  print(string)\n",
        "print('迴圈結束')\n",
        "print('迴圈執行了%d次'%count)"
      ],
      "metadata": {
        "colab": {
          "base_uri": "https://localhost:8080/"
        },
        "id": "aJ48NiGuHkK9",
        "outputId": "74e89286-4bf2-42ba-dbcc-dc6db39bc479"
      },
      "execution_count": null,
      "outputs": [
        {
          "output_type": "stream",
          "name": "stdout",
          "text": [
            "t\n",
            "e\n",
            "s\n",
            "t\n",
            "迴圈結束\n",
            "迴圈執行了4次\n"
          ]
        }
      ]
    },
    {
      "cell_type": "code",
      "source": [
        "for i in range(2,10):\n",
        "  for j in range(1,10):\n",
        "    print(f'{i}*{j}={i*i}',end='\\t')\n",
        "  print()"
      ],
      "metadata": {
        "id": "5MZB2pP1KZ21",
        "colab": {
          "base_uri": "https://localhost:8080/"
        },
        "outputId": "c768552c-562b-4483-c850-0788d62c0bdf"
      },
      "execution_count": 29,
      "outputs": [
        {
          "output_type": "stream",
          "name": "stdout",
          "text": [
            "2*1=4\t2*2=4\t2*3=4\t2*4=4\t2*5=4\t2*6=4\t2*7=4\t2*8=4\t2*9=4\t\n",
            "3*1=9\t3*2=9\t3*3=9\t3*4=9\t3*5=9\t3*6=9\t3*7=9\t3*8=9\t3*9=9\t\n",
            "4*1=16\t4*2=16\t4*3=16\t4*4=16\t4*5=16\t4*6=16\t4*7=16\t4*8=16\t4*9=16\t\n",
            "5*1=25\t5*2=25\t5*3=25\t5*4=25\t5*5=25\t5*6=25\t5*7=25\t5*8=25\t5*9=25\t\n",
            "6*1=36\t6*2=36\t6*3=36\t6*4=36\t6*5=36\t6*6=36\t6*7=36\t6*8=36\t6*9=36\t\n",
            "7*1=49\t7*2=49\t7*3=49\t7*4=49\t7*5=49\t7*6=49\t7*7=49\t7*8=49\t7*9=49\t\n",
            "8*1=64\t8*2=64\t8*3=64\t8*4=64\t8*5=64\t8*6=64\t8*7=64\t8*8=64\t8*9=64\t\n",
            "9*1=81\t9*2=81\t9*3=81\t9*4=81\t9*5=81\t9*6=81\t9*7=81\t9*8=81\t9*9=81\t\n"
          ]
        }
      ]
    },
    {
      "cell_type": "code",
      "source": [
        "a=int(input('請輸入a的值'))\n",
        "b=int(input('請輸入b的值'))\n",
        "m=(a+1)*(b+1)\n",
        "if a>b:\n",
        "  z=a\n",
        "else:\n",
        "  z=b\n",
        "for k in range(z,m):\n",
        "  if k%a==0 and k%b==0:\n",
        "    break\n",
        "print(a,str('和'),b,'的最小公倍數=',k)"
      ],
      "metadata": {
        "colab": {
          "base_uri": "https://localhost:8080/"
        },
        "id": "O-8N_VkwMN7T",
        "outputId": "036716b9-aeaf-43e7-e3c7-39a4be20818f"
      },
      "execution_count": 33,
      "outputs": [
        {
          "output_type": "stream",
          "name": "stdout",
          "text": [
            "請輸入a的值9\n",
            "請輸入b的值15\n",
            "9 和 15 的最小公倍數= 45\n"
          ]
        }
      ]
    },
    {
      "cell_type": "code",
      "source": [
        "a=int(input('請輸入正整數'))\n",
        "for a in range (1,a+1):\n",
        "  if(a%5==0):\n",
        "    continue\n",
        "  print(a,end=' ')"
      ],
      "metadata": {
        "colab": {
          "base_uri": "https://localhost:8080/"
        },
        "id": "Soq_AaAPP_bh",
        "outputId": "f12c6e1b-5d2c-4a85-f4f2-9c2024e22809"
      },
      "execution_count": 36,
      "outputs": [
        {
          "output_type": "stream",
          "name": "stdout",
          "text": [
            "請輸入正整數12\n",
            "1 2 3 4 6 7 8 9 11 12 "
          ]
        }
      ]
    }
  ]
}