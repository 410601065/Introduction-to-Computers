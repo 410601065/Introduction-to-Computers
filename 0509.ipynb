{
  "nbformat": 4,
  "nbformat_minor": 0,
  "metadata": {
    "colab": {
      "name": "0509.ipynb",
      "provenance": [],
      "authorship_tag": "ABX9TyOr/C8OWtvPHpTRRa11omLj",
      "include_colab_link": true
    },
    "kernelspec": {
      "name": "python3",
      "display_name": "Python 3"
    },
    "language_info": {
      "name": "python"
    }
  },
  "cells": [
    {
      "cell_type": "markdown",
      "metadata": {
        "id": "view-in-github",
        "colab_type": "text"
      },
      "source": [
        "<a href=\"https://colab.research.google.com/github/410601065/Introduction-to-Computers/blob/main/0509.ipynb\" target=\"_parent\"><img src=\"https://colab.research.google.com/assets/colab-badge.svg\" alt=\"Open In Colab\"/></a>"
      ]
    },
    {
      "cell_type": "code",
      "execution_count": 4,
      "metadata": {
        "colab": {
          "base_uri": "https://localhost:8080/"
        },
        "id": "Hy8vs_Wj8IaU",
        "outputId": "d690d044-4777-447e-df64-9937786cda57"
      },
      "outputs": [
        {
          "output_type": "stream",
          "name": "stdout",
          "text": [
            "請輸入你的體溫37\n",
            "體溫略高!\n"
          ]
        }
      ],
      "source": [
        "temp=float(input('請輸入你的體溫'))\n",
        "if temp>=37.5:\n",
        "  print('體溫過高!')\n",
        "elif temp>=37 and temp<37.4:\n",
        "  print('體溫略高!')\n",
        "elif temp>=34 and temp<=36.9:\n",
        "  print('體溫正常!')  \n",
        "else:\n",
        "  print('體溫異常，請重新量測!')"
      ]
    },
    {
      "cell_type": "code",
      "source": [
        "s=int(input('請輸入成績'))\n",
        "if s>=90:\n",
        "  print('A')\n",
        "elif s<=89 and s>=80:\n",
        "  print('B')\n",
        "elif s<=79 and s>=70:\n",
        "  print('C')\n",
        "elif s<=69 and s>=60:\n",
        "  print('D')\n",
        "else:\n",
        "  print('E')"
      ],
      "metadata": {
        "colab": {
          "base_uri": "https://localhost:8080/"
        },
        "id": "L5EzLeyc_kko",
        "outputId": "6d93856a-98e2-4a88-cc3b-78ae8d7e87e6"
      },
      "execution_count": 9,
      "outputs": [
        {
          "output_type": "stream",
          "name": "stdout",
          "text": [
            "請輸入成績50\n",
            "E\n"
          ]
        }
      ]
    },
    {
      "cell_type": "code",
      "source": [
        "money=int(input('請輸入購物金額:'))\n",
        "if (money>=10000):\n",
        "  if (money>=100000):\n",
        "    print('八折',money*0.8,end='元\\n')\n",
        "  elif (money>=50000):\n",
        "    print('八五折',money*0.85,end='元\\n')\n",
        "  elif (money>=30000):\n",
        "    print('九折',money*0.9,end='元\\n')\n",
        "  else:\n",
        "    print('九五折',money*0.95,end='元\\n')\n",
        "else:\n",
        "  print('沒打折',money,end='元\\n')"
      ],
      "metadata": {
        "colab": {
          "base_uri": "https://localhost:8080/"
        },
        "id": "O9RzQy6ZE3mA",
        "outputId": "dc95bbbf-ab63-4b5d-e0a1-ded800160ccd"
      },
      "execution_count": 20,
      "outputs": [
        {
          "output_type": "stream",
          "name": "stdout",
          "text": [
            "請輸入購物金額:80000\n",
            "八五折 68000.0元\n"
          ]
        }
      ]
    },
    {
      "cell_type": "code",
      "source": [
        "month=int(input('請輸入月份:'))\n",
        "if month==3 or 4 or 5:\n",
        "  print(month,'月是春天')\n",
        "elif month==6 or 7 or 8:\n",
        "  print(month,'月是夏天')\n",
        "elif month==9 or 10 or 11:\n",
        "  print(month,'月是秋天')\n",
        "elif month==12 or 1 or 2:\n",
        "  print(month,'月是冬天')\n",
        "else:\n",
        "  print('月份不再範圍內')"
      ],
      "metadata": {
        "colab": {
          "base_uri": "https://localhost:8080/"
        },
        "id": "j21oZ44UJ1_q",
        "outputId": "d6e766d3-6d13-48ee-ab3e-e50500c46c92"
      },
      "execution_count": 25,
      "outputs": [
        {
          "output_type": "stream",
          "name": "stdout",
          "text": [
            "請輸入月份:5\n",
            "5 月是春天\n"
          ]
        }
      ]
    },
    {
      "cell_type": "code",
      "source": [
        "r=int(input('請輸入今年收入淨額:'))\n",
        "if r>=2000000:\n",
        "  print('付稅金額:',r*0.3,end='元')\n",
        "elif r>=1000000:\n",
        "  print('付稅金額:',r*0.21,end='元')\n",
        "elif r>=600000:\n",
        "  print('付稅金額:',r*0.13,end='元')\n",
        "elif r>=300000:\n",
        "  print('付稅金額:',r*0.06,end='元')\n",
        "else:\n",
        "  print('付稅金額:',r*0,end='元')"
      ],
      "metadata": {
        "colab": {
          "base_uri": "https://localhost:8080/"
        },
        "id": "sxT8B8epLOqf",
        "outputId": "ccec8161-13a7-4bc6-ff68-3f14cf5cca95"
      },
      "execution_count": 28,
      "outputs": [
        {
          "output_type": "stream",
          "name": "stdout",
          "text": [
            "請輸入今年收入淨額100000\n",
            "付稅金額: 0元"
          ]
        }
      ]
    }
  ]
}