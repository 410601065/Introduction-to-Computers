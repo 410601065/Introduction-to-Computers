{
  "nbformat": 4,
  "nbformat_minor": 0,
  "metadata": {
    "colab": {
      "name": "0530.ipynb",
      "provenance": [],
      "authorship_tag": "ABX9TyMa/8mEWunVJ3BLExbOn1/7",
      "include_colab_link": true
    },
    "kernelspec": {
      "name": "python3",
      "display_name": "Python 3"
    },
    "language_info": {
      "name": "python"
    }
  },
  "cells": [
    {
      "cell_type": "markdown",
      "metadata": {
        "id": "view-in-github",
        "colab_type": "text"
      },
      "source": [
        "<a href=\"https://colab.research.google.com/github/410601065/Introduction-to-Computers/blob/main/0530.ipynb\" target=\"_parent\"><img src=\"https://colab.research.google.com/assets/colab-badge.svg\" alt=\"Open In Colab\"/></a>"
      ]
    },
    {
      "cell_type": "markdown",
      "source": [
        "九九乘法表"
      ],
      "metadata": {
        "id": "VH1BPLUODob8"
      }
    },
    {
      "cell_type": "code",
      "execution_count": 4,
      "metadata": {
        "colab": {
          "base_uri": "https://localhost:8080/"
        },
        "id": "prLyBd2gB8xZ",
        "outputId": "80452f8f-9d2a-4cab-83c2-3efa8e353c3c"
      },
      "outputs": [
        {
          "output_type": "stream",
          "name": "stdout",
          "text": [
            "2*1= 2  2*2= 4  2*3= 6  2*4= 8  2*5=10  2*6=12  2*7=14  2*8=16  2*9=18  \n",
            "3*1= 3  3*2= 6  3*3= 9  3*4=12  3*5=15  3*6=18  3*7=21  3*8=24  3*9=27  \n",
            "4*1= 4  4*2= 8  4*3=12  4*4=16  4*5=20  4*6=24  4*7=28  4*8=32  4*9=36  \n",
            "5*1= 5  5*2=10  5*3=15  5*4=20  5*5=25  5*6=30  5*7=35  5*8=40  5*9=45  \n",
            "6*1= 6  6*2=12  6*3=18  6*4=24  6*5=30  6*6=36  6*7=42  6*8=48  6*9=54  \n",
            "7*1= 7  7*2=14  7*3=21  7*4=28  7*5=35  7*6=42  7*7=49  7*8=56  7*9=63  \n",
            "8*1= 8  8*2=16  8*3=24  8*4=32  8*5=40  8*6=48  8*7=56  8*8=64  8*9=72  \n",
            "9*1= 9  9*2=18  9*3=27  9*4=36  9*5=45  9*6=54  9*7=63  9*8=72  9*9=81  \n"
          ]
        }
      ],
      "source": [
        "for i in range(2,10):\n",
        "  for j in range(1,10):\n",
        "    product=i*j\n",
        "    print('%d*%d=%2d '%(i,j,product),end=' ')\n",
        "  print()"
      ]
    },
    {
      "cell_type": "markdown",
      "source": [
        "最小公倍數"
      ],
      "metadata": {
        "id": "LmsZwIPODtQp"
      }
    },
    {
      "cell_type": "code",
      "source": [
        "a=int(input('請輸入a的值'))\n",
        "b=int(input('請輸入b的值'))\n",
        "\n",
        "maxno=a*b\n",
        "for i in range(1,maxno+1):\n",
        "  if(i%a==0 and i%b==0):\n",
        "    break\n",
        "print('%d和%d的最小公倍數=%d'%(a,b,i))"
      ],
      "metadata": {
        "colab": {
          "base_uri": "https://localhost:8080/"
        },
        "id": "KGaKbk5UCm5C",
        "outputId": "d1ec68b1-8319-44cc-d255-fb06c5ff1cae"
      },
      "execution_count": 6,
      "outputs": [
        {
          "output_type": "stream",
          "name": "stdout",
          "text": [
            "請輸入a的值4\n",
            "請輸入b的值6\n",
            "4和6的最小公倍數=12\n"
          ]
        }
      ]
    },
    {
      "cell_type": "markdown",
      "source": [
        "排除數列中5的倍數"
      ],
      "metadata": {
        "id": "9enAk38qHO6E"
      }
    },
    {
      "cell_type": "code",
      "source": [
        "n=int(input('請輸入正整數'))\n",
        "for i in range(1,n+1):\n",
        "  if i%5==0:\n",
        "    continue\n",
        "  print(i,end=' ')"
      ],
      "metadata": {
        "colab": {
          "base_uri": "https://localhost:8080/"
        },
        "id": "QSALK2RZGfOM",
        "outputId": "64b31fe1-7a50-401c-d9de-7be3e1deac8b"
      },
      "execution_count": 7,
      "outputs": [
        {
          "output_type": "stream",
          "name": "stdout",
          "text": [
            "請輸入正整數21\n",
            "1 2 3 4 6 7 8 9 11 12 13 14 16 17 18 19 21 "
          ]
        }
      ]
    },
    {
      "cell_type": "markdown",
      "source": [
        "while"
      ],
      "metadata": {
        "id": "HI5gPrV0IaZr"
      }
    },
    {
      "cell_type": "code",
      "source": [
        "total=n=0\n",
        "while(n<=10):\n",
        "  total+=n\n",
        "  n+=1\n",
        "print(total)"
      ],
      "metadata": {
        "colab": {
          "base_uri": "https://localhost:8080/"
        },
        "id": "xu5ZLhO0IdyV",
        "outputId": "7f182c9e-f550-4a62-c65c-1bd63f0fc4cb"
      },
      "execution_count": 8,
      "outputs": [
        {
          "output_type": "stream",
          "name": "stdout",
          "text": [
            "55\n"
          ]
        }
      ]
    },
    {
      "cell_type": "code",
      "source": [
        "total=n=0\n",
        "while n<=10:\n",
        "  total+=n\n",
        "  n+=1\n",
        "print(total)"
      ],
      "metadata": {
        "colab": {
          "base_uri": "https://localhost:8080/"
        },
        "id": "lyAHzS8KJErT",
        "outputId": "4c55baf6-bd3e-4aed-e33f-35c209f768b2"
      },
      "execution_count": 10,
      "outputs": [
        {
          "output_type": "stream",
          "name": "stdout",
          "text": [
            "55\n"
          ]
        }
      ]
    },
    {
      "cell_type": "code",
      "source": [
        "total=i=1\n",
        "n=int(input('請輸入正整數n的值'))\n",
        "while i <=n:\n",
        "  total*=i\n",
        "  i+=1\n",
        "print('%d!=%d'%(n,total))"
      ],
      "metadata": {
        "colab": {
          "base_uri": "https://localhost:8080/"
        },
        "id": "mpbOhvD_LDa-",
        "outputId": "53bf08c6-af0b-4c6f-9f32-4a61ab0d1c75"
      },
      "execution_count": 17,
      "outputs": [
        {
          "output_type": "stream",
          "name": "stdout",
          "text": [
            "請輸入正整數n的值8\n",
            "8!=40320\n"
          ]
        }
      ]
    },
    {
      "cell_type": "code",
      "source": [
        "a=i=0\n",
        "b=j=0\n",
        "while i<=50:\n",
        "  if i%2==0:\n",
        "    a+=i\n",
        "  i+=1\n",
        "print('0倒50的偶數和為',a)\n",
        "\n",
        "while j<=50:\n",
        "  if j%2!=0:\n",
        "    b+=j\n",
        "  j+=1\n",
        "print('0倒50的奇數和為',b)"
      ],
      "metadata": {
        "colab": {
          "base_uri": "https://localhost:8080/"
        },
        "id": "jlkgOH1cNbPl",
        "outputId": "7431a669-afa8-4be6-f8d3-ee1cddb0c0fc"
      },
      "execution_count": 34,
      "outputs": [
        {
          "output_type": "stream",
          "name": "stdout",
          "text": [
            "0倒50的偶數和為 650\n",
            "0倒50的奇數和為 625\n"
          ]
        }
      ]
    },
    {
      "cell_type": "code",
      "source": [
        "i=int(input('請輸入正整數:'))\n",
        "for i in range(i,0,-1):\n",
        "  for i in range(1,i+1):\n",
        "    print('*',end='')\n",
        "  print()"
      ],
      "metadata": {
        "colab": {
          "base_uri": "https://localhost:8080/"
        },
        "id": "6m83alJYXZ7n",
        "outputId": "66662d28-b0aa-4bca-b14c-f02ab51a634d"
      },
      "execution_count": 38,
      "outputs": [
        {
          "output_type": "stream",
          "name": "stdout",
          "text": [
            "請輸入正整數:7\n",
            "*******\n",
            "******\n",
            "*****\n",
            "****\n",
            "***\n",
            "**\n",
            "*\n"
          ]
        }
      ]
    },
    {
      "cell_type": "code",
      "source": [
        "sum=0\n",
        "for n in range(1,100+1):\n",
        "  if n%3==0 or n%7==0:\n",
        "    sum+=n\n",
        "print('數值1~100中，所有是3或是7倍數的數之總和',sum)"
      ],
      "metadata": {
        "colab": {
          "base_uri": "https://localhost:8080/"
        },
        "id": "uuafCcKuiepy",
        "outputId": "90fcea5a-fa42-418b-dc3a-0d57e03d5324"
      },
      "execution_count": 42,
      "outputs": [
        {
          "output_type": "stream",
          "name": "stdout",
          "text": [
            "數值1~100中，所有是3或是7倍數的數之總和 2208\n"
          ]
        }
      ]
    },
    {
      "cell_type": "code",
      "source": [
        "a=int(input('請輸入一個正整數'))\n"
      ],
      "metadata": {
        "id": "W04W2sq1jkEL"
      },
      "execution_count": null,
      "outputs": []
    },
    {
      "cell_type": "code",
      "source": [
        "num = int(input('請輸入一個正整數'))\n",
        "if num>=1:\n",
        "  print(f'{num}的因數有:',end='')\n",
        "  for i in range(1,num+1):\n",
        "    if num%i==0:\n",
        "      print(f'{i}',end=' ')\n",
        "  for i in range(2,num):\n",
        "    if num%i==0:\n",
        "      print(f'\\n{num}不是質數')\n",
        "    else:\n",
        "      print(f'\\n{num}是質數')\n",
        "    break\n",
        "else:\n",
        "  print(f'\\n{num}不是實數')"
      ],
      "metadata": {
        "colab": {
          "base_uri": "https://localhost:8080/"
        },
        "id": "SXEDPB9ekniU",
        "outputId": "9cabf7df-3f83-41f8-bdea-66231791f695"
      },
      "execution_count": 99,
      "outputs": [
        {
          "output_type": "stream",
          "name": "stdout",
          "text": [
            "請輸入一個正整數12\n",
            "12的因數有:1 2 3 4 6 12 \n",
            "12不是質數\n"
          ]
        }
      ]
    },
    {
      "cell_type": "code",
      "source": [
        ""
      ],
      "metadata": {
        "id": "Imq0GPn-sA5m"
      },
      "execution_count": null,
      "outputs": []
    }
  ]
}